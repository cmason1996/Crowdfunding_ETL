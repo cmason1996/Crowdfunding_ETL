{
 "cells": [
  {
   "cell_type": "code",
   "execution_count": null,
   "id": "6b485e77",
   "metadata": {},
   "outputs": [],
   "source": [
    "# import dependencies\n",
    "import pandas as pd"
   ]
  },
  {
   "cell_type": "code",
   "execution_count": null,
   "id": "a6ae7d78",
   "metadata": {},
   "outputs": [],
   "source": [
    "# Read the data into a Pandas DataFrame\n",
    "crowdfunding_data = pd.ExcelFile(\"crowdfunding.xlsx\")\n",
    "# Get the sheet names.\n",
    "crowdfunding_data.sheet_names"
   ]
  },
  {
   "cell_type": "code",
   "execution_count": null,
   "id": "09034ba8",
   "metadata": {},
   "outputs": [],
   "source": [
    "#get the crowdfunding_info from the crowdfunding_info worksheet\n",
    "crowdfunding_info_df = pd.read_excel(crowdfunding_data, sheet_name='crowdfunding_info')\n",
    "crowdfunding_info_df.head()"
   ]
  },
  {
   "cell_type": "code",
   "execution_count": null,
   "id": "8e89d1e8",
   "metadata": {},
   "outputs": [],
   "source": [
    "# Get the contact_info from the contact_info worksheet.\n",
    "# Increase the width of the column.\n",
    "pd.set_option('max_colwidth', 400)\n",
    "contact_info_df = pd.read_excel(crowdfunding_data, sheet_name='contact_info', header=3)\n",
    "contact_info_df.head()\n",
    "\n",
    "# we set the width of each column to 400 pixels to help us view the data"
   ]
  },
  {
   "cell_type": "code",
   "execution_count": null,
   "id": "ef3f0f5e",
   "metadata": {},
   "outputs": [],
   "source": [
    "# randomly sample 5 rows from each DF to ensure that they were loaded correctly\n",
    "#contact_info_df.sample(n=5)\n",
    "crowdfunding_info_df.sample(n=5)"
   ]
  },
  {
   "cell_type": "code",
   "execution_count": null,
   "id": "6ea5dc50",
   "metadata": {},
   "outputs": [],
   "source": [
    "# get a brief summary of the crowdfunding_info_df\n",
    "crowdfunding_info_df.info()"
   ]
  },
  {
   "cell_type": "code",
   "execution_count": null,
   "id": "d63235cf",
   "metadata": {},
   "outputs": [],
   "source": [
    "# Get a brief summary of the contact_info DataFrame. \n",
    "contact_info_df.info()"
   ]
  },
  {
   "cell_type": "code",
   "execution_count": null,
   "id": "431cf3a7",
   "metadata": {},
   "outputs": [],
   "source": [
    "# get the unique values in the category and sub-category column\n",
    "crowdfunding_info_df[\"category & sub-category\"].unique()"
   ]
  },
  {
   "cell_type": "code",
   "execution_count": null,
   "id": "51a4d145",
   "metadata": {},
   "outputs": [],
   "source": [
    "# Assign the category and subcategory values to category and subcategory columns.\n",
    "crowdfunding_info_df[[\"category\",\"subcategory\"]] = crowdfunding_info_df[\"category & sub-category\"].str.split('/', n=1, expand=True)\n",
    "crowdfunding_info_df.head(10)\n",
    "\n",
    "#crowdfunding_info_df[[\"category\",\"subcategory\"]] tells pandas to put the data into seperate columnns\n",
    "#crowdfunding_info_df[\"category & sub-category\"].str.split('/', n=1, expand=True) tells pandas that we are going to split\n",
    "#the columns in the /, the n=1 is the number of splits, and expand=True tells pandas to put the data into two new columns\n"
   ]
  },
  {
   "cell_type": "code",
   "execution_count": null,
   "id": "918be563",
   "metadata": {},
   "outputs": [],
   "source": [
    "# get the distinct values in the category and sub-category columns\n",
    "print(crowdfunding_info_df['category'].nunique())\n",
    "print(crowdfunding_info_df['subcategory'].nunique())"
   ]
  },
  {
   "cell_type": "code",
   "execution_count": null,
   "id": "853b6d09",
   "metadata": {},
   "outputs": [],
   "source": [
    "# Get the unique categories and subcategories in separate lists.\n",
    "categories = crowdfunding_info_df[\"category\"].unique()\n",
    "subcategories = crowdfunding_info_df[\"subcategory\"].unique()\n",
    "print(categories)\n",
    "print()\n",
    "print(subcategories)"
   ]
  },
  {
   "cell_type": "code",
   "execution_count": null,
   "id": "9e01e378",
   "metadata": {},
   "outputs": [],
   "source": [
    "# Import the Numpy dependency\n",
    "import numpy as np\n",
    "# Create numpy arrays that have 1-10 for the category_ids and 1-25 for the subcategory_ids.\n",
    "category_ids = np.arange(1, 10)\n",
    "subcategory_ids = np.arange(1, 25)\n",
    "\n",
    "#run these to show the outputs from the above code in this cell\n",
    "#category_ids\n",
    "#subcategory_ids"
   ]
  },
  {
   "cell_type": "code",
   "execution_count": null,
   "id": "5d4de01f",
   "metadata": {},
   "outputs": [],
   "source": [
    "# Use a list comprehension to add \"cat0\" to each category_id. \n",
    "cat_ids = [\"cat0\" + str(cat_id) for cat_id in category_ids]\n",
    "\n",
    "# Use a list comprehension to add \"scat0\" to each subcategory_id. \n",
    "scat_ids = [\"scat0\" + str(scat_id) for scat_id in subcategory_ids ]\n",
    "\n",
    "print(cat_ids)\n",
    "print(scat_ids)"
   ]
  },
  {
   "cell_type": "code",
   "execution_count": null,
   "id": "f2ccc893",
   "metadata": {},
   "outputs": [],
   "source": [
    "#used for assessment to get the headers of each column\n",
    "crowdfunding_info_df.columns"
   ]
  },
  {
   "cell_type": "code",
   "execution_count": null,
   "id": "66d215a6",
   "metadata": {},
   "outputs": [],
   "source": [
    "# Create a category DataFrame with the cat_ids array as the category_id and categories list as the category name.\n",
    "category_df = pd.DataFrame({\n",
    "    \"category_id\": cat_ids,\n",
    "    \"category\" : categories\n",
    "})\n",
    "\n",
    "# Create a subcategory DataFrame with the scat_ids array as the subcategory_id and subcategories list as the subcategory name.\n",
    "subcategory_df = pd.DataFrame({\n",
    "    \"subcategory_id\": scat_ids,\n",
    "    \"subcategory\" : subcategories\n",
    "})\n"
   ]
  },
  {
   "cell_type": "code",
   "execution_count": null,
   "id": "6d45bde8",
   "metadata": {},
   "outputs": [],
   "source": [
    "# print the DFs to ensure they were produced properly\n",
    "#category_df\n",
    "subcategory_df"
   ]
  },
  {
   "cell_type": "code",
   "execution_count": null,
   "id": "a9ca30b1",
   "metadata": {},
   "outputs": [],
   "source": [
    "# export the category_df as a csv\n",
    "category_df.to_csv(\"category.csv\", index=False)"
   ]
  },
  {
   "cell_type": "code",
   "execution_count": null,
   "id": "67be3f56",
   "metadata": {},
   "outputs": [],
   "source": [
    "# export the subcategory_df as a csv\n",
    "subcategory_df.to_csv(\"subcategory.csv\", index=False)"
   ]
  },
  {
   "cell_type": "code",
   "execution_count": null,
   "id": "7a9afe71",
   "metadata": {},
   "outputs": [],
   "source": [
    "# Create a copy of the crowdfunding_info_df DataFrame name campaign_df.\n",
    "campaign_df = crowdfunding_info_df.copy()\n",
    "campaign_df.head()"
   ]
  },
  {
   "cell_type": "code",
   "execution_count": null,
   "id": "3e5b6e58",
   "metadata": {},
   "outputs": [],
   "source": [
    "# rename the blurb, lauched_at, and deadline columns to description, launched_date, end_date\n",
    "campaign_df = campaign_df.rename(columns={'blurb': 'description', \n",
    "                                 'launched_at': 'launched_date', \n",
    "                                 'deadline': 'end_date'})\n",
    "\n",
    "campaign_df"
   ]
  },
  {
   "cell_type": "code",
   "execution_count": null,
   "id": "ac402782",
   "metadata": {},
   "outputs": [],
   "source": [
    "# Convert the goal and pledged columns to a `float` data type.\n",
    "campaign_df[[\"goal\",\"pledged\"]] = campaign_df[[\"goal\",\"pledged\"]].astype(float)\n",
    "campaign_df.head()"
   ]
  },
  {
   "cell_type": "code",
   "execution_count": null,
   "id": "c0c39a8d",
   "metadata": {},
   "outputs": [],
   "source": [
    "# Format the launched_date and end_date columns to datetime format.\n",
    "from datetime import datetime as dt\n",
    "campaign_df[\"launched_date\"] = pd.to_datetime(campaign_df[\"launched_date\"], unit='s').dt.strftime('%Y-%m-%d') \n",
    "campaign_df[\"end_date\"] = pd.to_datetime(campaign_df[\"end_date\"], unit='s').dt.strftime('%Y-%m-%d')\n",
    "campaign_df.head()"
   ]
  },
  {
   "cell_type": "code",
   "execution_count": null,
   "id": "2eca858c",
   "metadata": {},
   "outputs": [],
   "source": [
    "# Merge the campaign_df with the category_df on the \"category\" column and the subcategory_df on the \"subcategory\" column.\n",
    "campaign_merged_df = campaign_df.merge(category_df, on='category', how='left').merge(subcategory_df, on='subcategory', how='left')\n",
    "campaign_merged_df.tail()\n",
    "\n"
   ]
  },
  {
   "cell_type": "code",
   "execution_count": null,
   "id": "5c613bf8",
   "metadata": {},
   "outputs": [],
   "source": [
    "# Drop unwanted columns.\n",
    "campaign_cleaned = campaign_merged_df.drop(['staff_pick', 'spotlight', 'category & sub-category','category', 'subcategory'], axis=1)\n",
    "campaign_cleaned.head()\n"
   ]
  },
  {
   "cell_type": "code",
   "execution_count": null,
   "id": "a58c6906",
   "metadata": {},
   "outputs": [],
   "source": [
    "# show the contact_info_df \n",
    "contact_info_df.head()"
   ]
  },
  {
   "cell_type": "code",
   "execution_count": null,
   "id": "8c8f5d7e",
   "metadata": {},
   "outputs": [],
   "source": [
    "#retrieve data from the contact_info column\n",
    "contact_info_list = contact_info_df.contact_info.to_list()\n",
    "\n",
    "contact_info_list"
   ]
  },
  {
   "cell_type": "code",
   "execution_count": null,
   "id": "9d15820d",
   "metadata": {},
   "outputs": [],
   "source": [
    "# Pop out the unique identification number using list slicing. \n",
    "print(contact_info_list[0][:15])\n",
    "print(contact_info_list[0][15:19])"
   ]
  },
  {
   "cell_type": "code",
   "execution_count": null,
   "id": "e9a2104c",
   "metadata": {},
   "outputs": [],
   "source": [
    "# Pop out the unique identification number using list comprehension and slicing. \n",
    "print([x[15:19] for x in contact_info_list])"
   ]
  },
  {
   "cell_type": "code",
   "execution_count": null,
   "id": "00ae628b",
   "metadata": {},
   "outputs": [],
   "source": [
    "# Extract the four-digit contact ID number and add it to a new column in the `campaign_cleaned` DataFrame.\n",
    "campaign_cleaned[\"contact_id\"] = [x[15:19] for x in contact_info_df[\"contact_info\"].values]\n",
    "campaign_cleaned.head()"
   ]
  },
  {
   "cell_type": "code",
   "execution_count": null,
   "id": "756eea7d",
   "metadata": {},
   "outputs": [],
   "source": [
    "#inspecting the datatypes of campaign_cleaned\n",
    "campaign_cleaned.info()"
   ]
  },
  {
   "cell_type": "code",
   "execution_count": null,
   "id": "f25deb23",
   "metadata": {},
   "outputs": [],
   "source": [
    "# Convert the \"contact_id\" column to an int64 data type.\n",
    "campaign_cleaned['contact_id'] = pd.to_numeric(campaign_cleaned['contact_id'])\n",
    "campaign_cleaned.info()"
   ]
  },
  {
   "cell_type": "code",
   "execution_count": null,
   "id": "f6cf092e",
   "metadata": {},
   "outputs": [],
   "source": [
    "new_column_order = [\"cf_id\", \"contact_id\", \"company_name\", \"description\", \"goal\", \"pledged\", \"outcome\", \"backers_count\", \"country\", \"currency\", \"launched_date\", \"end_date\", \"category_id\", \"subcategory_id\"]\n",
    "campaign_cleaned = campaign_cleaned[new_column_order]\n",
    "campaign_cleaned.head()\n"
   ]
  },
  {
   "cell_type": "code",
   "execution_count": null,
   "id": "f1355e49",
   "metadata": {},
   "outputs": [],
   "source": [
    "# export the campaign_cleaned as a csv\n",
    "campaign_cleaned.to_csv(\"campaign.csv\", encoding='utf8', index=False)"
   ]
  },
  {
   "cell_type": "code",
   "execution_count": null,
   "id": "9fe94bef",
   "metadata": {},
   "outputs": [],
   "source": [
    "# Extract the four-digit contact ID number and add it to a new column in the contact_info DataFrame.\n",
    "contact_info_df[\"contact_id\"] = [x[15:19] for x in contact_info_df[\"contact_info\"].values]\n",
    "contact_info_df.head()"
   ]
  },
  {
   "cell_type": "code",
   "execution_count": null,
   "id": "5cc3c95a",
   "metadata": {},
   "outputs": [],
   "source": [
    "# Get the data from the first row and convert it to a dictionary using the json.loads function\n",
    "import json\n",
    "first_row = contact_info_df.iloc[0]['contact_info']\n",
    "converted_data = json.loads(first_row)\n",
    "for k, v in converted_data.items():\n",
    "    print(k,v)\n",
    "\n",
    "#we imported the json library\n",
    "#we used iloc and index of 0 to get the information from the first row\n",
    "#we converted the first_row to a dictionary using the json.loads function\n",
    "#we looped through the converted_data dictionary to get the keys and values"
   ]
  },
  {
   "cell_type": "code",
   "execution_count": null,
   "id": "089f7dec",
   "metadata": {},
   "outputs": [],
   "source": [
    "# Iterate through the contact_info_df and convert each row to a dictionary.\n",
    "dict_values = []\n",
    "for i, row in contact_info_df.iterrows():\n",
    "    # Get the data first item in each row.\n",
    "    data = row['contact_info']\n",
    "    converted_data = json.loads(data)\n",
    "    # Iterate through each dictionary (row) and get the values for each row using list comprehension.\n",
    "    row_values = [v for k, v in converted_data.items()]\n",
    "    # Append the list of values for each row to a new list. \n",
    "    dict_values.append(row_values)\n",
    "\n",
    "# Print out the list of values for each row.\n",
    "print(dict_values)"
   ]
  },
  {
   "cell_type": "code",
   "execution_count": null,
   "id": "a8cfdda5",
   "metadata": {},
   "outputs": [],
   "source": [
    "# Create a contact_info DataFrame and add each list of values, i.e., each row to the 'contact_id', 'name', 'email' columns.\n",
    "contacts_df = pd.DataFrame(dict_values, columns=['contact_id', 'name', 'email'])\n",
    "contacts_df.head()\n"
   ]
  },
  {
   "cell_type": "code",
   "execution_count": null,
   "id": "5e009eee",
   "metadata": {},
   "outputs": [],
   "source": [
    "#inspect the datatypes of the contacts_df \n",
    "contacts_df.info()"
   ]
  },
  {
   "cell_type": "code",
   "execution_count": null,
   "id": "19f4a0a8",
   "metadata": {},
   "outputs": [],
   "source": [
    "#spit the name column into first and last name colums using the space as the split\n",
    "contacts_df[[\"first_name\",\"last_name\"]] = contacts_df[\"name\"].str.split(' ', n=1, expand=True)\n",
    "\n",
    "#drop the name column\n",
    "contacts_df_clean = contacts_df.drop(['name'], axis=1)\n",
    "\n",
    "contacts_df_clean.head(10)"
   ]
  },
  {
   "cell_type": "code",
   "execution_count": null,
   "id": "338c5ff6",
   "metadata": {},
   "outputs": [],
   "source": [
    "#reorder the columns\n",
    "new_column_order = [\"contact_id\", \"first_name\", \"last_name\", \"email\"]\n",
    "contacts_df_clean = contacts_df_clean[new_column_order]\n",
    "contacts_df_clean"
   ]
  },
  {
   "cell_type": "code",
   "execution_count": null,
   "id": "f0b29f8e",
   "metadata": {},
   "outputs": [],
   "source": [
    "# export the dataframe into csv\n",
    "contacts_df_clean.to_csv(\"contacts.csv\", encoding='utf8', index=False)"
   ]
  },
  {
   "cell_type": "code",
   "execution_count": null,
   "id": "bb2a0835",
   "metadata": {},
   "outputs": [],
   "source": []
  }
 ],
 "metadata": {
  "kernelspec": {
   "display_name": "PythonData",
   "language": "python",
   "name": "pythondata"
  },
  "language_info": {
   "codemirror_mode": {
    "name": "ipython",
    "version": 3
   },
   "file_extension": ".py",
   "mimetype": "text/x-python",
   "name": "python",
   "nbconvert_exporter": "python",
   "pygments_lexer": "ipython3",
   "version": "3.7.13"
  }
 },
 "nbformat": 4,
 "nbformat_minor": 5
}
